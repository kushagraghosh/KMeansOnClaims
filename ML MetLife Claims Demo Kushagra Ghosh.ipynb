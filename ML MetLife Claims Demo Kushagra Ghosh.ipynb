{
 "cells": [
  {
   "cell_type": "code",
   "execution_count": 11,
   "id": "3f777a72",
   "metadata": {
    "scrolled": true
   },
   "outputs": [
    {
     "name": "stdout",
     "output_type": "stream",
     "text": [
      "Hi\n"
     ]
    }
   ],
   "source": [
    "print(\"Hi\") #Predicting the probability of a claim in the next year and then 3 yrs. Also, bring in additional details about what kind of claim based on the coverage column."
   ]
  },
  {
   "cell_type": "code",
   "execution_count": 12,
   "id": "a721afa7",
   "metadata": {},
   "outputs": [
    {
     "name": "stdout",
     "output_type": "stream",
     "text": [
      "      INSURED FIRST NAME INSURED LAST NAME INSURED DATE OF BIRTH  \\\n",
      "0                  raghu              test   1981-12-01 00:00:00   \n",
      "1                  raghu              test   1981-12-01 00:00:00   \n",
      "2                  raghu              test   1981-12-01 00:00:00   \n",
      "3                  raghu              test   1981-12-01 00:00:00   \n",
      "4                  raghu              test   1981-12-01 00:00:00   \n",
      "...                  ...               ...                   ...   \n",
      "45012             Zuzana         Valentova   1968-03-29 00:00:00   \n",
      "45013             Zuzana         Valentova   1968-03-29 00:00:00   \n",
      "45014             Zuzana         Valentova   1968-03-29 00:00:00   \n",
      "45015             Zuzana         Valentova   1968-03-29 00:00:00   \n",
      "45016             Zuzana         Valentova   1968-03-29 00:00:00   \n",
      "\n",
      "      INSURED ID NUMBER BIRTHDAY ID(SAME AS INSURED ID NUMBER) CLAIM NUMBER  \\\n",
      "0           856018/1817                            856018/1817    17.002056   \n",
      "1           856018/1817                            856018/1817    21.001992   \n",
      "2           856018/1817                            856018/1817    21.003744   \n",
      "3           856018/1817                            856018/1817    21.003881   \n",
      "4           856018/1817                            856018/1817    21.004019   \n",
      "...                 ...                                    ...          ...   \n",
      "45012       685329/6219                            685329/6219    21.017651   \n",
      "45013       685329/6219                            685329/6219    21.017657   \n",
      "45014       685329/6219                            685329/6219    21.017973   \n",
      "45015       685329/6219                            685329/6219    21.017981   \n",
      "45016       685329/6219                            685329/6219    21.017982   \n",
      "\n",
      "      CATEGORY CLAIM DESCRIPTION  EVENT DATE  \n",
      "0            D           Disease  20170608.0  \n",
      "1            D           Disease  20210524.0  \n",
      "2            D           Disease  20210908.0  \n",
      "3            A          Accident  20140101.0  \n",
      "4            A          Accident  20210520.0  \n",
      "...        ...               ...         ...  \n",
      "45012       AD    Accident Death  20211101.0  \n",
      "45013        D           Disease  20210101.0  \n",
      "45014        A          Accident  20211001.0  \n",
      "45015        A          Accident  20210701.0  \n",
      "45016        A          Accident  20210701.0  \n",
      "\n",
      "[45017 rows x 9 columns]\n"
     ]
    }
   ],
   "source": [
    "import pandas as pd\n",
    "import matplotlib.pyplot as plt\n",
    "import numpy as np\n",
    "\n",
    "import ipywidgets as widgets\n",
    "from IPython.display import display\n",
    "\n",
    "df = pd.read_excel('EMEA Claims History Data set - Test.xlsx')\n",
    "#Claims data from excel\n",
    "print(df)"
   ]
  },
  {
   "cell_type": "code",
   "execution_count": 13,
   "id": "a79564c9",
   "metadata": {},
   "outputs": [
    {
     "data": {
      "text/html": [
       "<div>\n",
       "<style scoped>\n",
       "    .dataframe tbody tr th:only-of-type {\n",
       "        vertical-align: middle;\n",
       "    }\n",
       "\n",
       "    .dataframe tbody tr th {\n",
       "        vertical-align: top;\n",
       "    }\n",
       "\n",
       "    .dataframe thead th {\n",
       "        text-align: right;\n",
       "    }\n",
       "</style>\n",
       "<table border=\"1\" class=\"dataframe\">\n",
       "  <thead>\n",
       "    <tr style=\"text-align: right;\">\n",
       "      <th></th>\n",
       "      <th>Disease_Claims</th>\n",
       "      <th>Accident_Claims</th>\n",
       "      <th>Outpatient_Care_Claims</th>\n",
       "      <th>Ordinary_Death_Claims</th>\n",
       "      <th>Credit_Life_Claims</th>\n",
       "      <th>Accident_Death_Claims</th>\n",
       "      <th>Travel_Insurance_Claims</th>\n",
       "      <th>Past_Yr_Claims</th>\n",
       "      <th>Lifetime_Claims</th>\n",
       "    </tr>\n",
       "    <tr>\n",
       "      <th>INSURED ID NUMBER</th>\n",
       "      <th></th>\n",
       "      <th></th>\n",
       "      <th></th>\n",
       "      <th></th>\n",
       "      <th></th>\n",
       "      <th></th>\n",
       "      <th></th>\n",
       "      <th></th>\n",
       "      <th></th>\n",
       "    </tr>\n",
       "  </thead>\n",
       "  <tbody>\n",
       "    <tr>\n",
       "      <th>000101/6928</th>\n",
       "      <td>1</td>\n",
       "      <td>0</td>\n",
       "      <td>0</td>\n",
       "      <td>1</td>\n",
       "      <td>2</td>\n",
       "      <td>1</td>\n",
       "      <td>0</td>\n",
       "      <td>4</td>\n",
       "      <td>6</td>\n",
       "    </tr>\n",
       "    <tr>\n",
       "      <th>000104/3361</th>\n",
       "      <td>0</td>\n",
       "      <td>0</td>\n",
       "      <td>4</td>\n",
       "      <td>0</td>\n",
       "      <td>0</td>\n",
       "      <td>0</td>\n",
       "      <td>0</td>\n",
       "      <td>0</td>\n",
       "      <td>4</td>\n",
       "    </tr>\n",
       "    <tr>\n",
       "      <th>000104/3757</th>\n",
       "      <td>4</td>\n",
       "      <td>0</td>\n",
       "      <td>0</td>\n",
       "      <td>0</td>\n",
       "      <td>0</td>\n",
       "      <td>0</td>\n",
       "      <td>0</td>\n",
       "      <td>0</td>\n",
       "      <td>4</td>\n",
       "    </tr>\n",
       "    <tr>\n",
       "      <th>000111/4223</th>\n",
       "      <td>0</td>\n",
       "      <td>0</td>\n",
       "      <td>0</td>\n",
       "      <td>0</td>\n",
       "      <td>0</td>\n",
       "      <td>24</td>\n",
       "      <td>0</td>\n",
       "      <td>4</td>\n",
       "      <td>352</td>\n",
       "    </tr>\n",
       "    <tr>\n",
       "      <th>000121/6369</th>\n",
       "      <td>0</td>\n",
       "      <td>0</td>\n",
       "      <td>4</td>\n",
       "      <td>0</td>\n",
       "      <td>0</td>\n",
       "      <td>0</td>\n",
       "      <td>0</td>\n",
       "      <td>0</td>\n",
       "      <td>4</td>\n",
       "    </tr>\n",
       "    <tr>\n",
       "      <th>...</th>\n",
       "      <td>...</td>\n",
       "      <td>...</td>\n",
       "      <td>...</td>\n",
       "      <td>...</td>\n",
       "      <td>...</td>\n",
       "      <td>...</td>\n",
       "      <td>...</td>\n",
       "      <td>...</td>\n",
       "      <td>...</td>\n",
       "    </tr>\n",
       "    <tr>\n",
       "      <th>996101/0983</th>\n",
       "      <td>0</td>\n",
       "      <td>3</td>\n",
       "      <td>0</td>\n",
       "      <td>0</td>\n",
       "      <td>0</td>\n",
       "      <td>0</td>\n",
       "      <td>0</td>\n",
       "      <td>0</td>\n",
       "      <td>3</td>\n",
       "    </tr>\n",
       "    <tr>\n",
       "      <th>996102/1323</th>\n",
       "      <td>0</td>\n",
       "      <td>0</td>\n",
       "      <td>0</td>\n",
       "      <td>0</td>\n",
       "      <td>0</td>\n",
       "      <td>0</td>\n",
       "      <td>0</td>\n",
       "      <td>10</td>\n",
       "      <td>10</td>\n",
       "    </tr>\n",
       "    <tr>\n",
       "      <th>996130/1009</th>\n",
       "      <td>2</td>\n",
       "      <td>2</td>\n",
       "      <td>0</td>\n",
       "      <td>0</td>\n",
       "      <td>0</td>\n",
       "      <td>0</td>\n",
       "      <td>0</td>\n",
       "      <td>2</td>\n",
       "      <td>4</td>\n",
       "    </tr>\n",
       "    <tr>\n",
       "      <th>996226/3245</th>\n",
       "      <td>4</td>\n",
       "      <td>2</td>\n",
       "      <td>0</td>\n",
       "      <td>0</td>\n",
       "      <td>0</td>\n",
       "      <td>0</td>\n",
       "      <td>0</td>\n",
       "      <td>0</td>\n",
       "      <td>6</td>\n",
       "    </tr>\n",
       "    <tr>\n",
       "      <th>Sanitized</th>\n",
       "      <td>19</td>\n",
       "      <td>3</td>\n",
       "      <td>0</td>\n",
       "      <td>1</td>\n",
       "      <td>0</td>\n",
       "      <td>1</td>\n",
       "      <td>0</td>\n",
       "      <td>0</td>\n",
       "      <td>24</td>\n",
       "    </tr>\n",
       "  </tbody>\n",
       "</table>\n",
       "<p>1153 rows × 9 columns</p>\n",
       "</div>"
      ],
      "text/plain": [
       "                   Disease_Claims  Accident_Claims  Outpatient_Care_Claims  \\\n",
       "INSURED ID NUMBER                                                            \n",
       "000101/6928                     1                0                       0   \n",
       "000104/3361                     0                0                       4   \n",
       "000104/3757                     4                0                       0   \n",
       "000111/4223                     0                0                       0   \n",
       "000121/6369                     0                0                       4   \n",
       "...                           ...              ...                     ...   \n",
       "996101/0983                     0                3                       0   \n",
       "996102/1323                     0                0                       0   \n",
       "996130/1009                     2                2                       0   \n",
       "996226/3245                     4                2                       0   \n",
       "Sanitized                      19                3                       0   \n",
       "\n",
       "                   Ordinary_Death_Claims  Credit_Life_Claims  \\\n",
       "INSURED ID NUMBER                                              \n",
       "000101/6928                            1                   2   \n",
       "000104/3361                            0                   0   \n",
       "000104/3757                            0                   0   \n",
       "000111/4223                            0                   0   \n",
       "000121/6369                            0                   0   \n",
       "...                                  ...                 ...   \n",
       "996101/0983                            0                   0   \n",
       "996102/1323                            0                   0   \n",
       "996130/1009                            0                   0   \n",
       "996226/3245                            0                   0   \n",
       "Sanitized                              1                   0   \n",
       "\n",
       "                   Accident_Death_Claims  Travel_Insurance_Claims  \\\n",
       "INSURED ID NUMBER                                                   \n",
       "000101/6928                            1                        0   \n",
       "000104/3361                            0                        0   \n",
       "000104/3757                            0                        0   \n",
       "000111/4223                           24                        0   \n",
       "000121/6369                            0                        0   \n",
       "...                                  ...                      ...   \n",
       "996101/0983                            0                        0   \n",
       "996102/1323                            0                        0   \n",
       "996130/1009                            0                        0   \n",
       "996226/3245                            0                        0   \n",
       "Sanitized                              1                        0   \n",
       "\n",
       "                   Past_Yr_Claims  Lifetime_Claims  \n",
       "INSURED ID NUMBER                                   \n",
       "000101/6928                     4                6  \n",
       "000104/3361                     0                4  \n",
       "000104/3757                     0                4  \n",
       "000111/4223                     4              352  \n",
       "000121/6369                     0                4  \n",
       "...                           ...              ...  \n",
       "996101/0983                     0                3  \n",
       "996102/1323                    10               10  \n",
       "996130/1009                     2                4  \n",
       "996226/3245                     0                6  \n",
       "Sanitized                       0               24  \n",
       "\n",
       "[1153 rows x 9 columns]"
      ]
     },
     "execution_count": 13,
     "metadata": {},
     "output_type": "execute_result"
    }
   ],
   "source": [
    "#Created new dataframe that groups based on each unique insured ID number and then aggregates conditional number of claims depending on the type of claim for each column.\n",
    "claimsdf = df.groupby(['INSURED ID NUMBER']).apply(lambda x: pd.Series(dict(\n",
    "    Disease_Claims=(x.CATEGORY == \"D\").sum(),\n",
    "    Accident_Claims=(x.CATEGORY == \"A\").sum(),\n",
    "    Outpatient_Care_Claims=(x.CATEGORY == \"OC\").sum(),\n",
    "    Ordinary_Death_Claims=(x.CATEGORY == \"OD\").sum(),\n",
    "    Credit_Life_Claims=(x.CATEGORY == \"Y\").sum(),\n",
    "    Accident_Death_Claims=(x.CATEGORY == \"AD\").sum(),\n",
    "    Travel_Insurance_Claims=(x.CATEGORY == \"T\").sum(),\n",
    "    Past_Yr_Claims=(x[\"EVENT DATE\"]>20210000).sum(),\n",
    "    Lifetime_Claims=(x.CATEGORY != \"\").sum(),\n",
    ")))\n",
    "claimsdf"
   ]
  },
  {
   "cell_type": "code",
   "execution_count": 14,
   "id": "c3727ac6",
   "metadata": {},
   "outputs": [
    {
     "data": {
      "text/plain": [
       "array([99, 'AD', 'D', 'OD', 'Y', 'OC', 'A', 'T'], dtype=object)"
      ]
     },
     "execution_count": 14,
     "metadata": {},
     "output_type": "execute_result"
    }
   ],
   "source": [
    "#To find the unique categories to group for the dataframe above\n",
    "test = df.groupby(['INSURED ID NUMBER', 'CATEGORY']).size()\n",
    "new_df = test.to_frame(name='Num Of Claims').reset_index()\n",
    "new_df\n",
    "new_df['CATEGORY'].unique() # 99, 'AD', 'D', 'OD', 'Y', 'OC', 'A', 'T'"
   ]
  },
  {
   "cell_type": "code",
   "execution_count": 15,
   "id": "09e40444",
   "metadata": {},
   "outputs": [
    {
     "name": "stdout",
     "output_type": "stream",
     "text": [
      "Disease_Claims             0\n",
      "Accident_Claims            2\n",
      "Outpatient_Care_Claims     0\n",
      "Ordinary_Death_Claims      0\n",
      "Credit_Life_Claims         0\n",
      "Accident_Death_Claims      0\n",
      "Travel_Insurance_Claims    0\n",
      "Past_Yr_Claims             0\n",
      "Lifetime_Claims            2\n",
      "Name: 000406/3906, dtype: int64\n"
     ]
    },
    {
     "data": {
      "text/plain": [
       "array([[ 1,  0],\n",
       "       [ 0,  0],\n",
       "       [ 4,  0],\n",
       "       ...,\n",
       "       [ 2,  2],\n",
       "       [ 4,  2],\n",
       "       [19,  3]], dtype=int64)"
      ]
     },
     "execution_count": 15,
     "metadata": {},
     "output_type": "execute_result"
    }
   ],
   "source": [
    "#Clustering method to identify patterns within customers based on their claims and coverage. Understand customer base more.\n",
    "useful_claimsdf = claimsdf[ (claimsdf['Disease_Claims']>=0) & (claimsdf['Accident_Claims']>=0) & (claimsdf['Disease_Claims']<200) & (claimsdf['Accident_Claims']<200)]\n",
    "print(useful_claimsdf.iloc[7])\n",
    "X = useful_claimsdf[['Disease_Claims', 'Accident_Claims']].values #2 features for easier visualization of clusters (1 axis per feature)\n",
    "X"
   ]
  },
  {
   "cell_type": "code",
   "execution_count": 16,
   "id": "69141d71",
   "metadata": {},
   "outputs": [
    {
     "name": "stderr",
     "output_type": "stream",
     "text": [
      "C:\\Users\\kghosh17\\Anaconda3\\lib\\site-packages\\sklearn\\cluster\\_kmeans.py:1036: UserWarning: KMeans is known to have a memory leak on Windows with MKL, when there are less chunks than available threads. You can avoid it by setting the environment variable OMP_NUM_THREADS=5.\n",
      "  warnings.warn(\n"
     ]
    },
    {
     "data": {
      "image/png": "[encoded data removed]",
      "text/plain": [
       "<Figure size 432x288 with 1 Axes>"
      ]
     },
     "metadata": {
      "needs_background": "light"
     },
     "output_type": "display_data"
    }
   ],
   "source": [
    "#Using elbow method to find optimal number of clusters for K-Means Algo\n",
    "from sklearn.cluster import KMeans  #Run K-means algo several times with 10 different num of clusters\n",
    "wcss = []   #Within Cluster Sum of Squares: sum of the squared distances between each observation pt of the cluster and the centroid of the cluster (for each of the num of clusters)\n",
    "for i in range(1,11):\n",
    "    kmeans = KMeans(n_clusters = i, init = 'k-means++', random_state = 42) #Creating 10 different K-Mean objects for each cluster\n",
    "    kmeans.fit(X) #Training K-means algo with i num of clusters\n",
    "    wcss.append(kmeans.inertia_) #Get wcss value\n",
    "plt.plot(range(1,11), wcss)\n",
    "plt.title('The Elbow Method')\n",
    "plt.xlabel('Number of Clusters')\n",
    "plt.ylabel('WCSS')\n",
    "plt.show()"
   ]
  },
  {
   "cell_type": "code",
   "execution_count": 17,
   "id": "a9af3b46",
   "metadata": {},
   "outputs": [
    {
     "name": "stdout",
     "output_type": "stream",
     "text": [
      "[0 0 0 ... 0 0 4]\n"
     ]
    }
   ],
   "source": [
    "#Training the K-Means model on the dataset\n",
    "kmeans = KMeans(n_clusters = 5, init = 'k-means++', random_state = 42) #Creating 10 different K-Mean objects for each cluster\n",
    "y_kmeans = kmeans.fit_predict(X) #Create dependent variable clusters\n",
    "print(y_kmeans)"
   ]
  },
  {
   "cell_type": "code",
   "execution_count": 18,
   "id": "7c60e632",
   "metadata": {},
   "outputs": [
    {
     "data": {
      "image/png": "[encoded data removed]",
      "text/plain": [
       "<Figure size 432x288 with 1 Axes>"
      ]
     },
     "metadata": {
      "needs_background": "light"
     },
     "output_type": "display_data"
    }
   ],
   "source": [
    "#Visualizing the clusters\n",
    "plt.scatter(X[y_kmeans==0, 0], X[y_kmeans==0, 1], s=100, c='red', label='Cluster 1')\n",
    "plt.scatter(X[y_kmeans==1, 0], X[y_kmeans==1, 1], s=100, c='blue', label='Cluster 2')\n",
    "plt.scatter(X[y_kmeans==2, 0], X[y_kmeans==2, 1], s=100, c='green', label='Cluster 3')\n",
    "plt.scatter(X[y_kmeans==3, 0], X[y_kmeans==3, 1], s=100, c='orange', label='Cluster 4')\n",
    "plt.scatter(X[y_kmeans==4, 0], X[y_kmeans==4, 1], s=100, c='cyan', label='Cluster 5')\n",
    "plt.scatter(kmeans.cluster_centers_[:, 0], kmeans.cluster_centers_[:, 1], s=100, c='yellow', label='Centroids')\n",
    "plt.title('Clusters of customers')\n",
    "plt.xlabel('Disease claims')\n",
    "plt.ylabel('Accident Claims')\n",
    "plt.legend()\n",
    "plt.show()"
   ]
  },
  {
   "cell_type": "code",
   "execution_count": 19,
   "id": "0a29c8ba",
   "metadata": {},
   "outputs": [],
   "source": [
    "def updateClusterTables(c):\n",
    "    numCluster = c\n",
    "    filtered = useful_claimsdf[y_kmeans==numCluster-1]\n",
    "    print('Cluster '+str(numCluster)+\" customers\")\n",
    "    display(filtered)\n",
    "    \n",
    "    joined = pd.merge(filtered, df, on=\"INSURED ID NUMBER\", how='inner')\n",
    "    joined = joined[pd.notnull(joined['Disease_Claims'])][df.columns]\n",
    "    print('All claims from the cluster '+str(numCluster)+\" customers\")\n",
    "    display(joined)"
   ]
  },
  {
   "cell_type": "code",
   "execution_count": 20,
   "id": "8b247acf",
   "metadata": {},
   "outputs": [
    {
     "data": {
      "application/vnd.jupyter.widget-view+json": {
       "model_id": "4a36f3a511864af3bd8f1f67face08a0",
       "version_major": 2,
       "version_minor": 0
      },
      "text/plain": [
       "interactive(children=(IntSlider(value=1, description='Cluster: ', max=5, min=1), Output()), _dom_classes=('wid…"
      ]
     },
     "metadata": {},
     "output_type": "display_data"
    },
    {
     "data": {
      "text/plain": [
       "<function __main__.updateClusterTables(c)>"
      ]
     },
     "execution_count": 20,
     "metadata": {},
     "output_type": "execute_result"
    }
   ],
   "source": [
    "amp = widgets.IntSlider(min=1, max=5, description=\"Cluster: \")\n",
    "widgets.interact(updateClusterTables, c=amp)"
   ]
  },
  {
   "cell_type": "code",
   "execution_count": 21,
   "id": "35b2c5bc",
   "metadata": {},
   "outputs": [
    {
     "data": {
      "text/html": [
       "<div>\n",
       "<style scoped>\n",
       "    .dataframe tbody tr th:only-of-type {\n",
       "        vertical-align: middle;\n",
       "    }\n",
       "\n",
       "    .dataframe tbody tr th {\n",
       "        vertical-align: top;\n",
       "    }\n",
       "\n",
       "    .dataframe thead th {\n",
       "        text-align: right;\n",
       "    }\n",
       "</style>\n",
       "<table border=\"1\" class=\"dataframe\">\n",
       "  <thead>\n",
       "    <tr style=\"text-align: right;\">\n",
       "      <th></th>\n",
       "      <th>Average Number of Disease Claims</th>\n",
       "      <th>Average Number of Accident Claims</th>\n",
       "    </tr>\n",
       "  </thead>\n",
       "  <tbody>\n",
       "    <tr>\n",
       "      <th>Cluster 1</th>\n",
       "      <td>0.846078</td>\n",
       "      <td>1.421569</td>\n",
       "    </tr>\n",
       "    <tr>\n",
       "      <th>Cluster 2</th>\n",
       "      <td>13.333333</td>\n",
       "      <td>127.333333</td>\n",
       "    </tr>\n",
       "    <tr>\n",
       "      <th>Cluster 3</th>\n",
       "      <td>78.000000</td>\n",
       "      <td>25.416667</td>\n",
       "    </tr>\n",
       "    <tr>\n",
       "      <th>Cluster 4</th>\n",
       "      <td>6.764706</td>\n",
       "      <td>56.529412</td>\n",
       "    </tr>\n",
       "    <tr>\n",
       "      <th>Cluster 5</th>\n",
       "      <td>14.382716</td>\n",
       "      <td>10.148148</td>\n",
       "    </tr>\n",
       "  </tbody>\n",
       "</table>\n",
       "</div>"
      ],
      "text/plain": [
       "           Average Number of Disease Claims  Average Number of Accident Claims\n",
       "Cluster 1                          0.846078                           1.421569\n",
       "Cluster 2                         13.333333                         127.333333\n",
       "Cluster 3                         78.000000                          25.416667\n",
       "Cluster 4                          6.764706                          56.529412\n",
       "Cluster 5                         14.382716                          10.148148"
      ]
     },
     "execution_count": 21,
     "metadata": {},
     "output_type": "execute_result"
    },
    {
     "data": {
      "image/png": "[encoded data removed]",
      "text/plain": [
       "<Figure size 432x288 with 2 Axes>"
      ]
     },
     "metadata": {
      "needs_background": "light"
     },
     "output_type": "display_data"
    }
   ],
   "source": [
    "disease_claims = kmeans.cluster_centers_[:, 0].tolist()\n",
    "accident_claims = kmeans.cluster_centers_[:, 1].tolist()\n",
    "index = ['Cluster 1', 'Cluster 2', 'Cluster 3', 'Cluster 4', 'Cluster 5']\n",
    "barplotdf = pd.DataFrame({\"Average Number of Disease Claims\": disease_claims, \"Average Number of Accident Claims\": accident_claims}, index=index)\n",
    "axes = barplotdf.plot.bar(rot=0, subplots=True)\n",
    "axes[1].legend(loc=2)\n",
    "barplotdf"
   ]
  },
  {
   "cell_type": "code",
   "execution_count": 22,
   "id": "c89c7249",
   "metadata": {},
   "outputs": [
    {
     "name": "stdout",
     "output_type": "stream",
     "text": [
      "3.9.12\n"
     ]
    }
   ],
   "source": [
    "from platform import python_version\n",
    "print(python_version())"
   ]
  },
  {
   "cell_type": "code",
   "execution_count": null,
   "id": "2a4a0a94",
   "metadata": {},
   "outputs": [],
   "source": []
  }
 ],
 "metadata": {
  "kernelspec": {
   "display_name": "Python 3 (ipykernel)",
   "language": "python",
   "name": "python3"
  },
  "language_info": {
   "codemirror_mode": {
    "name": "ipython",
    "version": 3
   },
   "file_extension": ".py",
   "mimetype": "text/x-python",
   "name": "python",
   "nbconvert_exporter": "python",
   "pygments_lexer": "ipython3",
   "version": "3.9.12"
  }
 },
 "nbformat": 4,
 "nbformat_minor": 5
}
